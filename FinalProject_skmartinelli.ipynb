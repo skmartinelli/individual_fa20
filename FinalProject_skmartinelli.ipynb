{
 "cells": [
  {
   "cell_type": "markdown",
   "metadata": {},
   "source": [
    "# COGS 108 - Final Project "
   ]
  },
  {
   "cell_type": "markdown",
   "metadata": {},
   "source": [
    "# Overview"
   ]
  },
  {
   "cell_type": "markdown",
   "metadata": {},
   "source": [
    " My project aims to analyze the relationship between traffic density surrounding San Diego parks and how nearby traffic may influence the parks' Yelp review scores. I looked at a dataset of Yelp reviews by park and a dataset of traffic density by zip code, and analyzed whether or not an increased traffic density in the zip code of a park had any impact on the average rating of parks within that zip code. The data seems to suggest that nearby traffic density has a negative correlation with Yelp review scores for San Diego parks."
   ]
  },
  {
   "cell_type": "markdown",
   "metadata": {},
   "source": [
    "# Name & GitHub ID\n",
    "\n",
    "- Name: Samuel Martinelli (A15936045)\n",
    "- GitHub Username: skmartinelli"
   ]
  },
  {
   "cell_type": "markdown",
   "metadata": {},
   "source": [
    "# Research Question"
   ]
  },
  {
   "cell_type": "markdown",
   "metadata": {},
   "source": [
    "What is the relationship between area traffic density and Yelp ratings of San Diego parks?"
   ]
  },
  {
   "cell_type": "markdown",
   "metadata": {},
   "source": [
    "## Background and Prior Work"
   ]
  },
  {
   "cell_type": "markdown",
   "metadata": {},
   "source": [
    "The nonstop sounds and stresses of city traffic can pay a toll on psychological health. A study by the German university Essen University Hospital found that continued exposure to residential traffic noise correlated with the development of depressive symptoms, and a New York Times article detailed traffic's effects on psychological well being, noting increased feelings of helplessness and loss of control felt by drivers stuck in traffic.\n",
    "    \n"
   ]
  },
  {
   "cell_type": "markdown",
   "metadata": {},
   "source": [
    "Yelp is a service that allows users to write reviews for locations they visit to log their experience. As we know, traffic can have a major impact on people's moods, and may affect the Yelp reviews vistitors leave for San Diego parks. Were they stuck in traffic for longer than they expected, unable to find parking, or simply annoyed by the constant sounds of cars and idle engines when they wanted some tranquility, visitors may be inclined to leave a more negative review the higher the traffic density in the surrounding area. My project looks at how the two are correlated, and aims to see if higher traffic density has a significant impact on parks' Yelp reviews. \n",
    "    \n",
    "\n",
    "References:\n",
    "- 1)https://ehp.niehs.nih.gov/doi/10.1289/ehp.1409400\n",
    "- 2) https://www.nytimes.com/2019/01/21/upshot/stuck-and-stressed-the-health-costs-of-traffic.html"
   ]
  },
  {
   "cell_type": "markdown",
   "metadata": {},
   "source": [
    "# Hypothesis\n"
   ]
  },
  {
   "cell_type": "markdown",
   "metadata": {},
   "source": [
    "I hypothesize that higher traffic density in the area surrounding San Diego parks would decrease the average Yelp review score. The frustration of being stuck in traffic and the increased volume of residential traffic sounds that come with higher traffic density would likely negatively impact park visitors' moods, leading them to leave more negative Yelp reviews. With lower traffic density, people would be better able to escape the traffic of regular life and leave better reviews as a result."
   ]
  },
  {
   "cell_type": "markdown",
   "metadata": {},
   "source": [
    "# Dataset(s)"
   ]
  },
  {
   "cell_type": "markdown",
   "metadata": {},
   "source": [
    "- Dataset Name: California Environmental Health Screening Data\n",
    "- Link to the dataset: https://data.ca.gov/dataset/calenviroscreen-2-0\n",
    "- Number of observations: 833\n",
    "\n",
    "This dataset contains environmental information for zip codes across California Counties. The main one analyzed in this project was traffic density by zip code, which was measured in vehicle-kilometers per hour per road length within 150 meters of each census tract boundary.\n",
    "\n",
    "\n",
    "\n",
    "\n",
    "- Dataset Name: yelp_SD_parks\n",
    "- Link to the dataset: (This one was curated by Professor Ellis but here is the link provided) https://www.yelp.com/developers/documentation/v3/business_search\n",
    "- Number of observations: 833 \n",
    "\n",
    "This dataset contains Yelp information about parks in San Diego, such as the average Yelp rating, number of ratings, and address, including zip code.  \n",
    "\n",
    "\n",
    "I will combine these datasets by merging the entries that have a common zip code in the 2 datasets. I'll be averaging the results of the traffic density and park reviews by zip code because I don't believe there's an efficient way to get any more accurate within the timeframe of the individual project. It would be neat, I just don't have enough time to go district by district or make some crazy webscraper :("
   ]
  },
  {
   "cell_type": "markdown",
   "metadata": {},
   "source": [
    "# Setup"
   ]
  },
  {
   "cell_type": "code",
   "execution_count": 1,
   "metadata": {},
   "outputs": [
    {
     "data": {
      "text/html": [
       "<div>\n",
       "<style scoped>\n",
       "    .dataframe tbody tr th:only-of-type {\n",
       "        vertical-align: middle;\n",
       "    }\n",
       "\n",
       "    .dataframe tbody tr th {\n",
       "        vertical-align: top;\n",
       "    }\n",
       "\n",
       "    .dataframe thead th {\n",
       "        text-align: right;\n",
       "    }\n",
       "</style>\n",
       "<table border=\"1\" class=\"dataframe\">\n",
       "  <thead>\n",
       "    <tr style=\"text-align: right;\">\n",
       "      <th></th>\n",
       "      <th>Census Tract</th>\n",
       "      <th>Total Population</th>\n",
       "      <th>California County</th>\n",
       "      <th>Click for interactive map</th>\n",
       "      <th>CES 2.0 Score</th>\n",
       "      <th>CES 2.0 Percentile Range</th>\n",
       "      <th>Hyperlink</th>\n",
       "      <th>Ozone</th>\n",
       "      <th>Ozone Pctl</th>\n",
       "      <th>PM2.5</th>\n",
       "      <th>...</th>\n",
       "      <th>Linguistic Isolation</th>\n",
       "      <th>Linguistic Isolation Pctl</th>\n",
       "      <th>Poverty</th>\n",
       "      <th>Poverty Pctl</th>\n",
       "      <th>Unemployment</th>\n",
       "      <th>Unemployment Pctl</th>\n",
       "      <th>Pop. Char.</th>\n",
       "      <th>Pop. Char. Score</th>\n",
       "      <th>Pop. Char. Pctl</th>\n",
       "      <th>Location 1</th>\n",
       "    </tr>\n",
       "  </thead>\n",
       "  <tbody>\n",
       "    <tr>\n",
       "      <th>0</th>\n",
       "      <td>6019001100</td>\n",
       "      <td>3174</td>\n",
       "      <td>Fresno</td>\n",
       "      <td>NaN</td>\n",
       "      <td>89.22</td>\n",
       "      <td>96-100% (highest scores)</td>\n",
       "      <td>http://oehha.maps.arcgis.com/apps/Viewer/index...</td>\n",
       "      <td>0.255228</td>\n",
       "      <td>80.87</td>\n",
       "      <td>14.746087</td>\n",
       "      <td>...</td>\n",
       "      <td>21.6</td>\n",
       "      <td>83.66</td>\n",
       "      <td>77.500865</td>\n",
       "      <td>97.78</td>\n",
       "      <td>19.30</td>\n",
       "      <td>92.05</td>\n",
       "      <td>90.072268</td>\n",
       "      <td>9.360658</td>\n",
       "      <td>99.60</td>\n",
       "      <td>Fresno 93706\\n(36.709695199999999, -119.7816961)</td>\n",
       "    </tr>\n",
       "    <tr>\n",
       "      <th>1</th>\n",
       "      <td>6019000300</td>\n",
       "      <td>3609</td>\n",
       "      <td>Fresno</td>\n",
       "      <td>NaN</td>\n",
       "      <td>83.71</td>\n",
       "      <td>96-100% (highest scores)</td>\n",
       "      <td>http://oehha.maps.arcgis.com/apps/Viewer/index...</td>\n",
       "      <td>0.287130</td>\n",
       "      <td>83.28</td>\n",
       "      <td>14.619618</td>\n",
       "      <td>...</td>\n",
       "      <td>18.3</td>\n",
       "      <td>78.34</td>\n",
       "      <td>81.204032</td>\n",
       "      <td>98.93</td>\n",
       "      <td>NaN</td>\n",
       "      <td>NaN</td>\n",
       "      <td>92.323243</td>\n",
       "      <td>9.594592</td>\n",
       "      <td>99.90</td>\n",
       "      <td>Fresno 93706\\n(36.726461999999998, -119.8010347)</td>\n",
       "    </tr>\n",
       "    <tr>\n",
       "      <th>2</th>\n",
       "      <td>6019000200</td>\n",
       "      <td>3167</td>\n",
       "      <td>Fresno</td>\n",
       "      <td>NaN</td>\n",
       "      <td>83.47</td>\n",
       "      <td>96-100% (highest scores)</td>\n",
       "      <td>http://oehha.maps.arcgis.com/apps/Viewer/index...</td>\n",
       "      <td>0.304446</td>\n",
       "      <td>84.40</td>\n",
       "      <td>14.554656</td>\n",
       "      <td>...</td>\n",
       "      <td>16.2</td>\n",
       "      <td>74.04</td>\n",
       "      <td>86.828423</td>\n",
       "      <td>99.66</td>\n",
       "      <td>25.27</td>\n",
       "      <td>98.14</td>\n",
       "      <td>91.499039</td>\n",
       "      <td>9.508958</td>\n",
       "      <td>99.80</td>\n",
       "      <td>Fresno 93706\\n(36.735491400000001, -119.8055044)</td>\n",
       "    </tr>\n",
       "    <tr>\n",
       "      <th>3</th>\n",
       "      <td>6019001500</td>\n",
       "      <td>2206</td>\n",
       "      <td>Fresno</td>\n",
       "      <td>NaN</td>\n",
       "      <td>83.08</td>\n",
       "      <td>96-100% (highest scores)</td>\n",
       "      <td>http://oehha.maps.arcgis.com/apps/Viewer/index...</td>\n",
       "      <td>0.225687</td>\n",
       "      <td>78.25</td>\n",
       "      <td>14.937649</td>\n",
       "      <td>...</td>\n",
       "      <td>19.5</td>\n",
       "      <td>80.68</td>\n",
       "      <td>62.746088</td>\n",
       "      <td>88.32</td>\n",
       "      <td>18.30</td>\n",
       "      <td>89.60</td>\n",
       "      <td>83.474281</td>\n",
       "      <td>8.674967</td>\n",
       "      <td>97.74</td>\n",
       "      <td>Fresno 93725\\n(36.681600000000003, -119.717842...</td>\n",
       "    </tr>\n",
       "    <tr>\n",
       "      <th>4</th>\n",
       "      <td>6019000600</td>\n",
       "      <td>6161</td>\n",
       "      <td>Fresno</td>\n",
       "      <td>NaN</td>\n",
       "      <td>82.95</td>\n",
       "      <td>96-100% (highest scores)</td>\n",
       "      <td>http://oehha.maps.arcgis.com/apps/Viewer/index...</td>\n",
       "      <td>0.327935</td>\n",
       "      <td>85.81</td>\n",
       "      <td>14.506413</td>\n",
       "      <td>...</td>\n",
       "      <td>16.9</td>\n",
       "      <td>75.49</td>\n",
       "      <td>88.680993</td>\n",
       "      <td>99.79</td>\n",
       "      <td>26.69</td>\n",
       "      <td>98.61</td>\n",
       "      <td>92.246260</td>\n",
       "      <td>9.586590</td>\n",
       "      <td>99.89</td>\n",
       "      <td>Fresno 93721\\n(36.743062999999999, -119.7933565)</td>\n",
       "    </tr>\n",
       "  </tbody>\n",
       "</table>\n",
       "<p>5 rows × 52 columns</p>\n",
       "</div>"
      ],
      "text/plain": [
       "   Census Tract  Total Population California County  \\\n",
       "0    6019001100              3174           Fresno    \n",
       "1    6019000300              3609           Fresno    \n",
       "2    6019000200              3167           Fresno    \n",
       "3    6019001500              2206           Fresno    \n",
       "4    6019000600              6161           Fresno    \n",
       "\n",
       "   Click for interactive map  CES 2.0 Score  CES 2.0 Percentile Range  \\\n",
       "0                        NaN          89.22  96-100% (highest scores)   \n",
       "1                        NaN          83.71  96-100% (highest scores)   \n",
       "2                        NaN          83.47  96-100% (highest scores)   \n",
       "3                        NaN          83.08  96-100% (highest scores)   \n",
       "4                        NaN          82.95  96-100% (highest scores)   \n",
       "\n",
       "                                           Hyperlink     Ozone  Ozone Pctl  \\\n",
       "0  http://oehha.maps.arcgis.com/apps/Viewer/index...  0.255228       80.87   \n",
       "1  http://oehha.maps.arcgis.com/apps/Viewer/index...  0.287130       83.28   \n",
       "2  http://oehha.maps.arcgis.com/apps/Viewer/index...  0.304446       84.40   \n",
       "3  http://oehha.maps.arcgis.com/apps/Viewer/index...  0.225687       78.25   \n",
       "4  http://oehha.maps.arcgis.com/apps/Viewer/index...  0.327935       85.81   \n",
       "\n",
       "       PM2.5  ...  Linguistic Isolation  Linguistic Isolation Pctl    Poverty  \\\n",
       "0  14.746087  ...                  21.6                      83.66  77.500865   \n",
       "1  14.619618  ...                  18.3                      78.34  81.204032   \n",
       "2  14.554656  ...                  16.2                      74.04  86.828423   \n",
       "3  14.937649  ...                  19.5                      80.68  62.746088   \n",
       "4  14.506413  ...                  16.9                      75.49  88.680993   \n",
       "\n",
       "   Poverty Pctl  Unemployment  Unemployment Pctl  Pop. Char.   \\\n",
       "0         97.78         19.30              92.05    90.072268   \n",
       "1         98.93           NaN                NaN    92.323243   \n",
       "2         99.66         25.27              98.14    91.499039   \n",
       "3         88.32         18.30              89.60    83.474281   \n",
       "4         99.79         26.69              98.61    92.246260   \n",
       "\n",
       "   Pop. Char. Score  Pop. Char. Pctl  \\\n",
       "0          9.360658            99.60   \n",
       "1          9.594592            99.90   \n",
       "2          9.508958            99.80   \n",
       "3          8.674967            97.74   \n",
       "4          9.586590            99.89   \n",
       "\n",
       "                                          Location 1  \n",
       "0   Fresno 93706\\n(36.709695199999999, -119.7816961)  \n",
       "1   Fresno 93706\\n(36.726461999999998, -119.8010347)  \n",
       "2   Fresno 93706\\n(36.735491400000001, -119.8055044)  \n",
       "3  Fresno 93725\\n(36.681600000000003, -119.717842...  \n",
       "4   Fresno 93721\\n(36.743062999999999, -119.7933565)  \n",
       "\n",
       "[5 rows x 52 columns]"
      ]
     },
     "execution_count": 1,
     "metadata": {},
     "output_type": "execute_result"
    }
   ],
   "source": [
    "# Display plots directly in the notebook instead of in a new window\n",
    "%matplotlib inline\n",
    "\n",
    "# Import libraries\n",
    "import numpy as np\n",
    "import pandas as pd\n",
    "import matplotlib.pyplot as plt\n",
    "import seaborn as sns\n",
    "import patsy\n",
    "import statsmodels.api as sm\n",
    "\n",
    "\n",
    "# Reading in CSV's\n",
    "df_parks = pd.read_csv('yelp_SD_parks.csv')\n",
    "df_traffic = pd.read_csv('calenviroscreen-final-report.csv')\n",
    "\n",
    "# Example of what the traffic dataframe looks like before cleaning. Yuck\n",
    "df_traffic.head()"
   ]
  },
  {
   "cell_type": "markdown",
   "metadata": {},
   "source": [
    "# Data Cleaning"
   ]
  },
  {
   "cell_type": "markdown",
   "metadata": {},
   "source": [
    "Describe your data cleaning steps here."
   ]
  },
  {
   "cell_type": "code",
   "execution_count": 2,
   "metadata": {},
   "outputs": [
    {
     "data": {
      "text/html": [
       "<div>\n",
       "<style scoped>\n",
       "    .dataframe tbody tr th:only-of-type {\n",
       "        vertical-align: middle;\n",
       "    }\n",
       "\n",
       "    .dataframe tbody tr th {\n",
       "        vertical-align: top;\n",
       "    }\n",
       "\n",
       "    .dataframe thead th {\n",
       "        text-align: right;\n",
       "    }\n",
       "</style>\n",
       "<table border=\"1\" class=\"dataframe\">\n",
       "  <thead>\n",
       "    <tr style=\"text-align: right;\">\n",
       "      <th></th>\n",
       "      <th>zip</th>\n",
       "      <th>Traffic</th>\n",
       "      <th>rating</th>\n",
       "    </tr>\n",
       "  </thead>\n",
       "  <tbody>\n",
       "    <tr>\n",
       "      <th>0</th>\n",
       "      <td>91902</td>\n",
       "      <td>1922.012046</td>\n",
       "      <td>4.125</td>\n",
       "    </tr>\n",
       "    <tr>\n",
       "      <th>1</th>\n",
       "      <td>91910</td>\n",
       "      <td>1774.441749</td>\n",
       "      <td>4.000</td>\n",
       "    </tr>\n",
       "    <tr>\n",
       "      <th>2</th>\n",
       "      <td>91911</td>\n",
       "      <td>1609.853055</td>\n",
       "      <td>1.000</td>\n",
       "    </tr>\n",
       "    <tr>\n",
       "      <th>3</th>\n",
       "      <td>91913</td>\n",
       "      <td>856.769123</td>\n",
       "      <td>3.000</td>\n",
       "    </tr>\n",
       "    <tr>\n",
       "      <th>4</th>\n",
       "      <td>91914</td>\n",
       "      <td>330.677791</td>\n",
       "      <td>4.000</td>\n",
       "    </tr>\n",
       "  </tbody>\n",
       "</table>\n",
       "</div>"
      ],
      "text/plain": [
       "     zip      Traffic  rating\n",
       "0  91902  1922.012046   4.125\n",
       "1  91910  1774.441749   4.000\n",
       "2  91911  1609.853055   1.000\n",
       "3  91913   856.769123   3.000\n",
       "4  91914   330.677791   4.000"
      ]
     },
     "execution_count": 2,
     "metadata": {},
     "output_type": "execute_result"
    }
   ],
   "source": [
    "# Clearing unnecessary columns by getting only the columns needed\n",
    "df_traffic = df_traffic[['California County','Location 1', 'Traffic']]\n",
    "df_parks = df_parks[['address', 'rating']]\n",
    "\n",
    "# Dropping rows with empty values to be safe\n",
    "df_traffic = df_traffic.dropna()\n",
    "df_parks = df_parks.dropna()\n",
    "\n",
    "# Removing full addresses from parks and just getting zip codes\n",
    "for i in range(0, len(df_parks)):\n",
    "    if (i in df_parks.index):\n",
    "        address_park = df_parks.loc[i,'address']\n",
    "        zipCode = address_park[-5:]\n",
    "        df_parks['address'] = df_parks['address'].replace([address_park],zipCode)\n",
    "        \n",
    "# Renaming address to zip for clarity\n",
    "df_parks.rename(columns = {'address':'zip'}, inplace = True) \n",
    "\n",
    "\n",
    "\n",
    "# Getting traffic zip codes\n",
    "sep = '\\n'\n",
    "for i in range(0, len(df_traffic)):\n",
    "    if (i in df_traffic.index):\n",
    "        \n",
    "        # Removing non-San Diego data because traffic data was California-wide\n",
    "        city = df_traffic.loc[i,'California County']\n",
    "        if (city != \"San Diego\"):\n",
    "            df_traffic = df_traffic.drop(i)\n",
    "            continue\n",
    "        \n",
    "        \n",
    "        # Replacing the full address with just the extracted zip code\n",
    "        text = df_traffic.loc[i,'Location 1']\n",
    "        stripped = text.split(sep, 1)[0]\n",
    "        stripped = stripped[-5:]\n",
    "        df_traffic['Location 1'] = df_traffic['Location 1'].replace([text],stripped)\n",
    "        \n",
    "        \n",
    "# Dropping county column after getting only San Diego, renaming location column to zip\n",
    "df_traffic = df_traffic[['Location 1', 'Traffic']]\n",
    "df_traffic.rename(columns = {'Location 1':'zip'}, inplace = True) \n",
    "\n",
    "# Getting mean of traffic density by zip code \n",
    "df_traffic = df_traffic.groupby('zip').mean().reset_index()\n",
    "df_traffic.head()\n",
    "\n",
    "# Getting mean of park yelp rating by zip code\n",
    "df_parks = df_parks.groupby('zip').mean().reset_index()\n",
    "df_parks.head()\n",
    "\n",
    "# Merging dataframes together for shared zip codes\n",
    "df = df_traffic.merge(df_parks)\n",
    "\n",
    "\n",
    "# Final merged dataframe with average ratings and average traffic density\n",
    "df.head()"
   ]
  },
  {
   "cell_type": "code",
   "execution_count": 3,
   "metadata": {},
   "outputs": [
    {
     "data": {
      "text/plain": [
       "<matplotlib.axes._subplots.AxesSubplot at 0x7f76a3918b90>"
      ]
     },
     "execution_count": 3,
     "metadata": {},
     "output_type": "execute_result"
    },
    {
     "data": {
      "image/png": "[encoded data removed]",
      "text/plain": [
       "<Figure size 432x288 with 1 Axes>"
      ]
     },
     "metadata": {
      "needs_background": "light"
     },
     "output_type": "display_data"
    }
   ],
   "source": [
    "# Graph zip and average park rating, grouped by zip code\n",
    "sns.scatterplot(x=df['zip'], y=df['rating'])\n",
    "\n"
   ]
  },
  {
   "cell_type": "markdown",
   "metadata": {},
   "source": [
    "Shows that Yelp reviews tend to be pretty even across zip codes. Don't worry about zip codes being unreadable... Consider it a privacy thing"
   ]
  },
  {
   "cell_type": "markdown",
   "metadata": {},
   "source": [
    "# Data Analysis & Results"
   ]
  },
  {
   "cell_type": "code",
   "execution_count": 4,
   "metadata": {},
   "outputs": [
    {
     "data": {
      "image/png": "[encoded data removed]",
      "text/plain": [
       "<Figure size 432x288 with 1 Axes>"
      ]
     },
     "metadata": {
      "needs_background": "light"
     },
     "output_type": "display_data"
    }
   ],
   "source": [
    "# Plot the distribution of yelp ratings\n",
    "rating_plot = df_parks['rating'].plot.hist(bins = 20)"
   ]
  },
  {
   "cell_type": "markdown",
   "metadata": {},
   "source": [
    "Most ratings for San Diego parks seem to be around 4 to 5 stars. Must be a nice area, would love to live there"
   ]
  },
  {
   "cell_type": "code",
   "execution_count": 8,
   "metadata": {
    "scrolled": true
   },
   "outputs": [
    {
     "data": {
      "text/plain": [
       "Text(0, 0.5, 'Yelp Rating')"
      ]
     },
     "execution_count": 8,
     "metadata": {},
     "output_type": "execute_result"
    },
    {
     "data": {
      "image/png": "[encoded data removed]",
      "text/plain": [
       "<Figure size 432x288 with 1 Axes>"
      ]
     },
     "metadata": {
      "needs_background": "light"
     },
     "output_type": "display_data"
    }
   ],
   "source": [
    "# Graph the rating as the x-axis and traffic density as the y-axis\n",
    "sns.scatterplot(x = df['Traffic'], y = df['rating'], data = df)\n",
    "\n",
    "plt.xlabel('Traffic Density')\n",
    "plt.ylabel('Yelp Rating')"
   ]
  },
  {
   "cell_type": "markdown",
   "metadata": {},
   "source": [
    "There isn't a clear trend here on whether or not increased traffic density leads to decreased rating."
   ]
  },
  {
   "cell_type": "markdown",
   "metadata": {},
   "source": [
    "# Linear Regression Model :)"
   ]
  },
  {
   "cell_type": "code",
   "execution_count": 9,
   "metadata": {},
   "outputs": [
    {
     "name": "stdout",
     "output_type": "stream",
     "text": [
      "                            OLS Regression Results                            \n",
      "==============================================================================\n",
      "Dep. Variable:                 rating   R-squared:                       0.020\n",
      "Model:                            OLS   Adj. R-squared:                  0.006\n",
      "Method:                 Least Squares   F-statistic:                     1.490\n",
      "Date:                Tue, 15 Dec 2020   Prob (F-statistic):              0.226\n",
      "Time:                        23:05:57   Log-Likelihood:                -73.102\n",
      "No. Observations:                  76   AIC:                             150.2\n",
      "Df Residuals:                      74   BIC:                             154.9\n",
      "Df Model:                           1                                         \n",
      "Covariance Type:            nonrobust                                         \n",
      "==============================================================================\n",
      "                 coef    std err          t      P>|t|      [0.025      0.975]\n",
      "------------------------------------------------------------------------------\n",
      "Intercept      4.0600      0.138     29.450      0.000       3.785       4.335\n",
      "Traffic    -8.637e-05   7.08e-05     -1.221      0.226      -0.000    5.46e-05\n",
      "==============================================================================\n",
      "Omnibus:                       54.996   Durbin-Watson:                   2.026\n",
      "Prob(Omnibus):                  0.000   Jarque-Bera (JB):              227.723\n",
      "Skew:                          -2.274   Prob(JB):                     3.55e-50\n",
      "Kurtosis:                      10.157   Cond. No.                     3.65e+03\n",
      "==============================================================================\n",
      "\n",
      "Warnings:\n",
      "[1] Standard Errors assume that the covariance matrix of the errors is correctly specified.\n",
      "[2] The condition number is large, 3.65e+03. This might indicate that there are\n",
      "strong multicollinearity or other numerical problems.\n"
     ]
    }
   ],
   "source": [
    "# Using linear regression to test for a relationship\n",
    "\n",
    "# Create the model\n",
    "outcome, predictors = patsy.dmatrices('rating ~ Traffic', df)\n",
    "mod = sm.OLS(outcome, predictors)\n",
    "res = mod.fit()\n",
    "print(res.summary())\n"
   ]
  },
  {
   "cell_type": "code",
   "execution_count": 10,
   "metadata": {},
   "outputs": [
    {
     "data": {
      "image/png": "[encoded data removed]",
      "text/plain": [
       "<Figure size 432x288 with 1 Axes>"
      ]
     },
     "metadata": {
      "needs_background": "light"
     },
     "output_type": "display_data"
    }
   ],
   "source": [
    "# Plot original data again\n",
    "sns.scatterplot(x='Traffic', y='rating', data=df)\n",
    "\n",
    "# Plot fit line on top of it\n",
    "xs = np.arange(df['Traffic'].min(), df['Traffic'].max())\n",
    "ys = -0.00008637 * xs + 4.06\n",
    "plt.plot(xs, ys, '--k', linewidth=4, label='Model')\n",
    "\n",
    "plt.xlabel('Traffic Density')\n",
    "plt.ylabel('Yelp Rating')\n",
    "plt.title('Relationship between Yelp Rating and Traffic Density')\n",
    "plt.legend();"
   ]
  },
  {
   "cell_type": "markdown",
   "metadata": {},
   "source": [
    "The results of the linear regression model indicate a slight negative relationship between traffic density and Yelp ratings. As the traffic density increases, the model would expect a lower Yelp review."
   ]
  },
  {
   "cell_type": "markdown",
   "metadata": {},
   "source": [
    "# Ethics & Privacy"
   ]
  },
  {
   "cell_type": "markdown",
   "metadata": {},
   "source": [
    "I don't believe there are any ethical issues with the datasets used because they were given by Professor Ellis and are openly available on the internet. I think there could be a potential privacy issue with some of the Yelp reviews for parks that were less reviewed (Some of the parks in the yelp_SD_Parks dataset had only 1 or 2 total reviews), but the reviews were anonymized in the dataset so I think it's more Yelp's concern than mine.\n",
    "\n",
    "Another potential ethical concern in my project is that the analysis doesn't take into account the environmental effects that higher traffic density could have on an area (and the resultant impact on park reviews from the environmental damage). With more time I think there could be a deeper look into how traffic density, air quality, and park reviews could paint a clearer picture of which communities need assistance from the city and in what way, but that wouldn't be in the scope of this project. "
   ]
  },
  {
   "cell_type": "markdown",
   "metadata": {},
   "source": [
    "# Conclusion & Discussion"
   ]
  },
  {
   "cell_type": "markdown",
   "metadata": {},
   "source": [
    "By comparing the average Yelp reviews to average Traffic Density across zip codes in San Diego, I hypothesized that increased traffic density in the area would lead to lower Yelp reviews for parks. After cleaning and analyzing the data, I found there to be a slight correlation, showing my hypothesis to be correct, but maybe not as dramatic a correlation as I'd hoped. Perhaps parks with high surrounding traffic density  wishing to increase their Yelp reviews could look into measures reducing noise pollution like outdoor sound absorbing panels. \n",
    "\n",
    "I briefly discussed previously that a major limitation of my project was that I had to sort my dataset by zip code and couldn't go all the way down to be as precise at the level of the census tract. Additionally, I think my results may be more indicative of other factors that simply happen to correlate with traffic density, such as air quality or even noise pollution at the most basic level. More data would need to be collected to come up with a real reason as to why the parks in areas with higher traffic density tend to have lower Yelp reviews. Mainly, I would've liked to go park by park and look at the data by census tract instead of having to go by zip code, but was too limited by time."
   ]
  }
 ],
 "metadata": {
  "kernelspec": {
   "display_name": "Python 3",
   "language": "python",
   "name": "python3"
  },
  "language_info": {
   "codemirror_mode": {
    "name": "ipython",
    "version": 3
   },
   "file_extension": ".py",
   "mimetype": "text/x-python",
   "name": "python",
   "nbconvert_exporter": "python",
   "pygments_lexer": "ipython3",
   "version": "3.7.6"
  }
 },
 "nbformat": 4,
 "nbformat_minor": 2
}
